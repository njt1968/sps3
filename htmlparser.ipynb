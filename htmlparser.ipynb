{
 "cells": [
  {
   "cell_type": "code",
   "execution_count": 5,
   "metadata": {},
   "outputs": [],
   "source": [
    "from html.parser import HTMLParser\n",
    "\n",
    "class Parser(HTMLParser):\n",
    "\n",
    "\tdef __init__(self):\n",
    "\t\tsuper().__init__()\n",
    "\t\tself.recording = False\n",
    "\t\n",
    "\tdef handle_starttag(self, tag: str, attrs):\n",
    "\t\tif tag == \"a\":\n",
    "\t\t\tself.recording = True;\n",
    "\t\telse:\n",
    "\t\t\tself.recording = False;\n",
    "\n",
    "\tdef handle_data(self, data):\n",
    "\t\tif self.recording:\n",
    "\t\t\tprint(f\"Found a tag data: {data}\")\n",
    "\t\t\tself.recording = False"
   ]
  },
  {
   "cell_type": "code",
   "execution_count": 6,
   "metadata": {},
   "outputs": [
    {
     "name": "stdout",
     "output_type": "stream",
     "text": [
      "Found a tag data: SALDDASLD\n",
      "Found a tag data: BALF:DAS\n"
     ]
    }
   ],
   "source": [
    "p = Parser()\n",
    "content = \"\"\"\n",
    "<a>SALDDASLD</a>\n",
    "<a>BALF:DAS</a>\n",
    "\"\"\"\n",
    "p.feed(content)"
   ]
  },
  {
   "cell_type": "code",
   "execution_count": null,
   "metadata": {},
   "outputs": [],
   "source": []
  }
 ],
 "metadata": {
  "kernelspec": {
   "display_name": "Python 3",
   "language": "python",
   "name": "python3"
  },
  "language_info": {
   "codemirror_mode": {
    "name": "ipython",
    "version": 3
   },
   "file_extension": ".py",
   "mimetype": "text/x-python",
   "name": "python",
   "nbconvert_exporter": "python",
   "pygments_lexer": "ipython3",
   "version": "3.10.9 (tags/v3.10.9:1dd9be6, Dec  6 2022, 20:01:21) [MSC v.1934 64 bit (AMD64)]"
  },
  "orig_nbformat": 4,
  "vscode": {
   "interpreter": {
    "hash": "275bc53f78324df1d0e40430cb8a2695498368fc0e21be7a97c5a9b27d95bf46"
   }
  }
 },
 "nbformat": 4,
 "nbformat_minor": 2
}
